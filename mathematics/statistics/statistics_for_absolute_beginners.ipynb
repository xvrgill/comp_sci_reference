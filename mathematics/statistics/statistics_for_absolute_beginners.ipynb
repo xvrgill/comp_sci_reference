{
 "cells": [
  {
   "cell_type": "markdown",
   "metadata": {},
   "source": [
    "# Statistics for Absolute Beginners\n",
    "*Second Edition - Oliver Theobald*\n",
    "___"
   ]
  },
  {
   "cell_type": "markdown",
   "metadata": {},
   "source": [
    "### Bayes Theorem\n",
    "\n",
    "#### Formula:\n",
    "\n",
    "$P(A|B)=\\frac{P(A)*P(B \\bigcap A)}{P(B)}$\n",
    "\n",
    "#### Formula in Plain English\n",
    "\n",
    "$P(A|B)$ is the probability of A given B happens (conditional probability)<br>\n",
    "$P(A)$ is the probability of A without any regard to whether event B has occured (marginal probability)<br>\n",
    "$P(B|A)$ is the probability of B given A happens (conditional probability)<br>\n",
    "$P(B)$ is the probability of B without any regard to whether event A has occured (marginal probability)<br>\n"
   ]
  },
  {
   "cell_type": "markdown",
   "metadata": {},
   "source": []
  }
 ],
 "metadata": {
  "language_info": {
   "name": "python"
  },
  "orig_nbformat": 4
 },
 "nbformat": 4,
 "nbformat_minor": 2
}
