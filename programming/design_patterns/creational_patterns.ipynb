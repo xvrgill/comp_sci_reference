{
 "cells": [
  {
   "cell_type": "markdown",
   "metadata": {},
   "source": [
    "## **Creational Patterns**\n",
    "*Patters that define how objects are created, which may in turn define how they function* <br><br>\n",
    "___"
   ]
  },
  {
   "cell_type": "markdown",
   "metadata": {},
   "source": [
    "### Singleton Pattern\n",
    "Is about something singular (only one). Specifically only one object of a class.\n",
    "Example: Mobile app where a user is able to play poker. The user has a preference class where all user settings are stored, such as colors of cards. Which object is storing those user preferences and which object is using the preferences to determine which colors are displayed in game? Having multiple objects of the preferences class can create inconsistencies.\n",
    "\n",
    "The Singleton pattern:\n",
    "- Enforces one and only one object of a Singleton class\n",
    "- Has the Singleton object globally accessible\n",
    "\n",
    "Should always strive to make instantiating mulitple objects of a Singleton class impossible to do. But how does one do this?\n",
    "\n",
    "1. Create a publicly available class\n",
    "2. Within that class, create an instance only if there is no instance created thus far\n",
    "3. If an instance has already been created, return that instance"
   ]
  },
  {
   "cell_type": "code",
   "execution_count": 23,
   "metadata": {},
   "outputs": [],
   "source": [
    "# Example of a Singleton\n",
    "from typing import Union\n",
    "\n",
    "class SingletonClass:\n",
    "    def __new__(cls) -> Union[type[type], None]:\n",
    "        if not hasattr(cls, 'instance'):\n",
    "            cls.instance = super(SingletonClass, cls).__new__(cls)\n",
    "        return cls.instance"
   ]
  },
  {
   "cell_type": "markdown",
   "metadata": {},
   "source": [
    "In this example, we take the following steps:\n",
    "1) Define a class\n",
    "2) Define a \\_\\_new\\_\\_ function that determines what to do when a new class is instantiated\n",
    "3) Within the \\_\\_new\\_\\_ function, use conditional logic to do one of two things depending on whether or not the class has an instance attribute\n",
    "    1. If it doesn't have an instance attribute -> user super to call \\_\\_new\\_\\_ in the standard way\n",
    "    2. If it does have an instance attribute -> return the value of that attribute\n",
    "\n",
    "*A potential issues include: If there are multiple threads running, there could be issues accessing the shared object*<br><br>"
   ]
  },
  {
   "cell_type": "markdown",
   "metadata": {},
   "source": [
    "___"
   ]
  },
  {
   "cell_type": "markdown",
   "metadata": {},
   "source": [
    "### Factory Pattern\n",
    "Is about something singular (only one). Specifically only one object of a class.\n",
    "Example: Mobile app where a user is able to play poker. The user has a preference class where all user settings are stored, such as colors of cards. Which object is storing those user preferences and which object is using the preferences to determine which colors are displayed in game? Having multiple objects of the preferences class can create inconsistencies.\n",
    "\n",
    "The Singleton pattern:\n",
    "- Enforces one and only one object of a Singleton class\n",
    "- Has the Singleton object globally accessible\n",
    "\n",
    "Should always strive to make instantiating mulitple objects of a Singleton class impossible to do. But how does one do this?\n",
    "\n",
    "1. Create a publicly available class\n",
    "2. Within that class, create an instance only if there is no instance created thus far\n",
    "3. If an instance has already been created, return that instance"
   ]
  },
  {
   "cell_type": "markdown",
   "metadata": {},
   "source": []
  }
 ],
 "metadata": {
  "interpreter": {
   "hash": "aee8b7b246df8f9039afb4144a1f6fd8d2ca17a180786b69acc140d282b71a49"
  },
  "kernelspec": {
   "display_name": "Python 3.9.1 64-bit",
   "language": "python",
   "name": "python3"
  },
  "language_info": {
   "codemirror_mode": {
    "name": "ipython",
    "version": 3
   },
   "file_extension": ".py",
   "mimetype": "text/x-python",
   "name": "python",
   "nbconvert_exporter": "python",
   "pygments_lexer": "ipython3",
   "version": "3.9.1"
  },
  "orig_nbformat": 4
 },
 "nbformat": 4,
 "nbformat_minor": 2
}
